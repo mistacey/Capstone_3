{
 "cells": [
  {
   "cell_type": "markdown",
   "metadata": {},
   "source": [
    "# Data Wrangling"
   ]
  },
  {
   "cell_type": "markdown",
   "metadata": {},
   "source": [
    "### Imports and Data Loading"
   ]
  },
  {
   "cell_type": "code",
   "execution_count": 1,
   "metadata": {},
   "outputs": [],
   "source": [
    "#Importing libraries\n",
    "import pandas as pd\n",
    "import numpy as np\n",
    "import matplotlib.pyplot as plt\n",
    "import seaborn as sns"
   ]
  },
  {
   "cell_type": "code",
   "execution_count": 2,
   "metadata": {},
   "outputs": [],
   "source": [
    "#loading data\n",
    "movie_data = pd.read_csv('raw_data/Amazon.csv')"
   ]
  },
  {
   "cell_type": "code",
   "execution_count": 3,
   "metadata": {},
   "outputs": [
    {
     "name": "stdout",
     "output_type": "stream",
     "text": [
      "<class 'pandas.core.frame.DataFrame'>\n",
      "RangeIndex: 4848 entries, 0 to 4847\n",
      "Columns: 207 entries, user_id to Movie206\n",
      "dtypes: float64(206), object(1)\n",
      "memory usage: 7.7+ MB\n"
     ]
    }
   ],
   "source": [
    "#checking out initial data\n",
    "movie_data.info()"
   ]
  },
  {
   "cell_type": "code",
   "execution_count": 4,
   "metadata": {},
   "outputs": [
    {
     "data": {
      "text/html": [
       "<div>\n",
       "<style scoped>\n",
       "    .dataframe tbody tr th:only-of-type {\n",
       "        vertical-align: middle;\n",
       "    }\n",
       "\n",
       "    .dataframe tbody tr th {\n",
       "        vertical-align: top;\n",
       "    }\n",
       "\n",
       "    .dataframe thead th {\n",
       "        text-align: right;\n",
       "    }\n",
       "</style>\n",
       "<table border=\"1\" class=\"dataframe\">\n",
       "  <thead>\n",
       "    <tr style=\"text-align: right;\">\n",
       "      <th></th>\n",
       "      <th>user_id</th>\n",
       "      <th>Movie1</th>\n",
       "      <th>Movie2</th>\n",
       "      <th>Movie3</th>\n",
       "      <th>Movie4</th>\n",
       "      <th>Movie5</th>\n",
       "      <th>Movie6</th>\n",
       "      <th>Movie7</th>\n",
       "      <th>Movie8</th>\n",
       "      <th>Movie9</th>\n",
       "      <th>...</th>\n",
       "      <th>Movie197</th>\n",
       "      <th>Movie198</th>\n",
       "      <th>Movie199</th>\n",
       "      <th>Movie200</th>\n",
       "      <th>Movie201</th>\n",
       "      <th>Movie202</th>\n",
       "      <th>Movie203</th>\n",
       "      <th>Movie204</th>\n",
       "      <th>Movie205</th>\n",
       "      <th>Movie206</th>\n",
       "    </tr>\n",
       "  </thead>\n",
       "  <tbody>\n",
       "    <tr>\n",
       "      <th>0</th>\n",
       "      <td>A3R5OBKS7OM2IR</td>\n",
       "      <td>5.0</td>\n",
       "      <td>5.0</td>\n",
       "      <td>NaN</td>\n",
       "      <td>NaN</td>\n",
       "      <td>NaN</td>\n",
       "      <td>NaN</td>\n",
       "      <td>NaN</td>\n",
       "      <td>NaN</td>\n",
       "      <td>NaN</td>\n",
       "      <td>...</td>\n",
       "      <td>NaN</td>\n",
       "      <td>NaN</td>\n",
       "      <td>NaN</td>\n",
       "      <td>NaN</td>\n",
       "      <td>NaN</td>\n",
       "      <td>NaN</td>\n",
       "      <td>NaN</td>\n",
       "      <td>NaN</td>\n",
       "      <td>NaN</td>\n",
       "      <td>NaN</td>\n",
       "    </tr>\n",
       "    <tr>\n",
       "      <th>1</th>\n",
       "      <td>AH3QC2PC1VTGP</td>\n",
       "      <td>NaN</td>\n",
       "      <td>NaN</td>\n",
       "      <td>2.0</td>\n",
       "      <td>NaN</td>\n",
       "      <td>NaN</td>\n",
       "      <td>NaN</td>\n",
       "      <td>NaN</td>\n",
       "      <td>NaN</td>\n",
       "      <td>NaN</td>\n",
       "      <td>...</td>\n",
       "      <td>NaN</td>\n",
       "      <td>NaN</td>\n",
       "      <td>NaN</td>\n",
       "      <td>NaN</td>\n",
       "      <td>NaN</td>\n",
       "      <td>NaN</td>\n",
       "      <td>NaN</td>\n",
       "      <td>NaN</td>\n",
       "      <td>NaN</td>\n",
       "      <td>NaN</td>\n",
       "    </tr>\n",
       "    <tr>\n",
       "      <th>2</th>\n",
       "      <td>A3LKP6WPMP9UKX</td>\n",
       "      <td>NaN</td>\n",
       "      <td>NaN</td>\n",
       "      <td>NaN</td>\n",
       "      <td>5.0</td>\n",
       "      <td>NaN</td>\n",
       "      <td>NaN</td>\n",
       "      <td>NaN</td>\n",
       "      <td>NaN</td>\n",
       "      <td>NaN</td>\n",
       "      <td>...</td>\n",
       "      <td>NaN</td>\n",
       "      <td>NaN</td>\n",
       "      <td>NaN</td>\n",
       "      <td>NaN</td>\n",
       "      <td>NaN</td>\n",
       "      <td>NaN</td>\n",
       "      <td>NaN</td>\n",
       "      <td>NaN</td>\n",
       "      <td>NaN</td>\n",
       "      <td>NaN</td>\n",
       "    </tr>\n",
       "    <tr>\n",
       "      <th>3</th>\n",
       "      <td>AVIY68KEPQ5ZD</td>\n",
       "      <td>NaN</td>\n",
       "      <td>NaN</td>\n",
       "      <td>NaN</td>\n",
       "      <td>5.0</td>\n",
       "      <td>NaN</td>\n",
       "      <td>NaN</td>\n",
       "      <td>NaN</td>\n",
       "      <td>NaN</td>\n",
       "      <td>NaN</td>\n",
       "      <td>...</td>\n",
       "      <td>NaN</td>\n",
       "      <td>NaN</td>\n",
       "      <td>NaN</td>\n",
       "      <td>NaN</td>\n",
       "      <td>NaN</td>\n",
       "      <td>NaN</td>\n",
       "      <td>NaN</td>\n",
       "      <td>NaN</td>\n",
       "      <td>NaN</td>\n",
       "      <td>NaN</td>\n",
       "    </tr>\n",
       "    <tr>\n",
       "      <th>4</th>\n",
       "      <td>A1CV1WROP5KTTW</td>\n",
       "      <td>NaN</td>\n",
       "      <td>NaN</td>\n",
       "      <td>NaN</td>\n",
       "      <td>NaN</td>\n",
       "      <td>5.0</td>\n",
       "      <td>NaN</td>\n",
       "      <td>NaN</td>\n",
       "      <td>NaN</td>\n",
       "      <td>NaN</td>\n",
       "      <td>...</td>\n",
       "      <td>NaN</td>\n",
       "      <td>NaN</td>\n",
       "      <td>NaN</td>\n",
       "      <td>NaN</td>\n",
       "      <td>NaN</td>\n",
       "      <td>NaN</td>\n",
       "      <td>NaN</td>\n",
       "      <td>NaN</td>\n",
       "      <td>NaN</td>\n",
       "      <td>NaN</td>\n",
       "    </tr>\n",
       "  </tbody>\n",
       "</table>\n",
       "<p>5 rows × 207 columns</p>\n",
       "</div>"
      ],
      "text/plain": [
       "          user_id  Movie1  Movie2  Movie3  Movie4  Movie5  Movie6  Movie7  \\\n",
       "0  A3R5OBKS7OM2IR     5.0     5.0     NaN     NaN     NaN     NaN     NaN   \n",
       "1   AH3QC2PC1VTGP     NaN     NaN     2.0     NaN     NaN     NaN     NaN   \n",
       "2  A3LKP6WPMP9UKX     NaN     NaN     NaN     5.0     NaN     NaN     NaN   \n",
       "3   AVIY68KEPQ5ZD     NaN     NaN     NaN     5.0     NaN     NaN     NaN   \n",
       "4  A1CV1WROP5KTTW     NaN     NaN     NaN     NaN     5.0     NaN     NaN   \n",
       "\n",
       "   Movie8  Movie9  ...  Movie197  Movie198  Movie199  Movie200  Movie201  \\\n",
       "0     NaN     NaN  ...       NaN       NaN       NaN       NaN       NaN   \n",
       "1     NaN     NaN  ...       NaN       NaN       NaN       NaN       NaN   \n",
       "2     NaN     NaN  ...       NaN       NaN       NaN       NaN       NaN   \n",
       "3     NaN     NaN  ...       NaN       NaN       NaN       NaN       NaN   \n",
       "4     NaN     NaN  ...       NaN       NaN       NaN       NaN       NaN   \n",
       "\n",
       "   Movie202  Movie203  Movie204  Movie205  Movie206  \n",
       "0       NaN       NaN       NaN       NaN       NaN  \n",
       "1       NaN       NaN       NaN       NaN       NaN  \n",
       "2       NaN       NaN       NaN       NaN       NaN  \n",
       "3       NaN       NaN       NaN       NaN       NaN  \n",
       "4       NaN       NaN       NaN       NaN       NaN  \n",
       "\n",
       "[5 rows x 207 columns]"
      ]
     },
     "execution_count": 4,
     "metadata": {},
     "output_type": "execute_result"
    }
   ],
   "source": [
    "movie_data.head()"
   ]
  },
  {
   "cell_type": "markdown",
   "metadata": {},
   "source": [
    "### Data Cleaning "
   ]
  },
  {
   "cell_type": "markdown",
   "metadata": {},
   "source": [
    "I am going to start by checking the unique values for each column to make sure all the ratings are either a number or NaN"
   ]
  },
  {
   "cell_type": "code",
   "execution_count": 5,
   "metadata": {},
   "outputs": [
    {
     "name": "stdout",
     "output_type": "stream",
     "text": [
      "['A3R5OBKS7OM2IR' 'AH3QC2PC1VTGP' 'A3LKP6WPMP9UKX' ... 'A5HG6WFZLO10D'\n",
      " 'A3UU690TWXCG1X' 'AI4J762YI6S06']\n",
      "[ 5. nan]\n",
      "[ 5. nan]\n",
      "[nan  2.]\n",
      "[nan  5.]\n",
      "[nan  5.  2.  1.  4.]\n",
      "[nan  4.]\n",
      "[nan  5.]\n",
      "[nan  5.]\n",
      "[nan  5.]\n",
      "[nan  5.]\n",
      "[nan  5.]\n",
      "[nan  5.]\n",
      "[nan  5.]\n",
      "[nan  4.]\n",
      "[nan  5.]\n",
      "[nan  5.  4.  3.  1.  2.]\n",
      "[nan  3.]\n",
      "[nan  5.]\n",
      "[nan  2.  5.]\n",
      "[nan  3.]\n",
      "[nan  5.]\n",
      "[nan  5.]\n",
      "[nan  5.]\n",
      "[nan  5.  2.]\n",
      "[nan  5.]\n",
      "[nan  4.  1.]\n",
      "[nan  5.]\n",
      "[nan  2.  3.  5.]\n",
      "[nan  5.  4.  2.  1.  3.]\n",
      "[nan  4.  5.]\n",
      "[nan  5.]\n",
      "[nan  4.  5.]\n",
      "[nan  5.]\n",
      "[nan  5.]\n",
      "[nan  5.]\n",
      "[nan  5.]\n",
      "[nan  5.]\n",
      "[nan  5.]\n",
      "[nan  5.]\n",
      "[nan  5.]\n",
      "[nan  5.]\n",
      "[nan  5.]\n",
      "[nan  5.  4.]\n",
      "[nan  5.]\n",
      "[nan  1.]\n",
      "[nan  5.]\n",
      "[nan  5.]\n",
      "[nan  5.]\n",
      "[nan  5.]\n",
      "[nan  5.]\n",
      "[nan  4.  5.]\n",
      "[nan  2.  4.  3.  5.  1.]\n",
      "[nan  1.  4.]\n",
      "[nan  5.]\n",
      "[nan  5.]\n",
      "[nan  5.]\n",
      "[nan  5.]\n",
      "[nan  1.]\n",
      "[nan  2.]\n",
      "[nan  1.]\n",
      "[nan  5.]\n",
      "[nan  1.  5.]\n",
      "[nan  5.]\n",
      "[nan  3.]\n",
      "[nan  5.]\n",
      "[nan  5.]\n",
      "[nan  1.]\n",
      "[nan  5.]\n",
      "[nan  1.]\n",
      "[nan  5.]\n",
      "[nan  4.]\n",
      "[nan  5.]\n",
      "[nan  2.]\n",
      "[nan  5.]\n",
      "[nan  5.]\n",
      "[nan  5.]\n",
      "[nan  5.]\n",
      "[nan  5.]\n",
      "[nan  5.]\n",
      "[nan  4.]\n",
      "[nan  5.  4.  1.]\n",
      "[nan  5.]\n",
      "[nan  3.]\n",
      "[nan  5.]\n",
      "[nan  5.]\n",
      "[nan  5.  3.  4.  1.]\n",
      "[nan  5.]\n",
      "[nan  4.]\n",
      "[nan  5.  4.  2.  1.  3.]\n",
      "[nan  4.  1.  5.  2.]\n",
      "[nan  5.  3.  2.  4.  1.]\n",
      "[nan  5.  3.  4.  2.]\n",
      "[nan  5.]\n",
      "[nan  5.  4.]\n",
      "[nan  5.  3.  1.]\n",
      "[nan  5.]\n",
      "[nan  5.  4.]\n",
      "[nan  5.]\n",
      "[nan  5.  3.]\n",
      "[nan  4.]\n",
      "[nan  5.]\n",
      "[nan  5.  3.]\n",
      "[nan  5.  4.  1.  3.]\n",
      "[nan  5.  4.]\n",
      "[nan  5.]\n",
      "[nan  5.]\n",
      "[nan  5.  1.  4.  2.  3.]\n",
      "[nan  5.  3.  4.  1.]\n",
      "[nan  2.  5.  4.  3.]\n",
      "[nan  5.  4.]\n",
      "[nan  5.  4.  3.  2.  1.]\n",
      "[nan  5.]\n",
      "[nan  5.  2.  3.]\n",
      "[nan  5.  2.  4.]\n",
      "[nan  4.]\n",
      "[nan  5.]\n",
      "[nan  5.  2.]\n",
      "[nan  5.]\n",
      "[nan  5.  2.  3.]\n",
      "[nan  5.]\n",
      "[nan  4.  3.  5.]\n",
      "[nan  5.]\n",
      "[nan  5.]\n",
      "[nan  5.  4.]\n",
      "[nan  5.  4.]\n",
      "[nan  4.  5.]\n",
      "[nan  4.  5.  3.  2.  1.]\n",
      "[nan  5.]\n",
      "[nan  5.  2.]\n",
      "[nan  5.  3.]\n",
      "[nan  5.]\n",
      "[nan  5.]\n",
      "[nan  5.]\n",
      "[nan  2.  3.  4.  5.]\n",
      "[nan  5.]\n",
      "[nan  5.]\n",
      "[nan  5.  2.]\n",
      "[nan  3.  5.  1.  4.  2.]\n",
      "[nan  5.]\n",
      "[nan  5.  4.  3.  2.  1.]\n",
      "[nan  5.  3.  4.  2.]\n",
      "[nan  5.]\n",
      "[nan  5.]\n",
      "[nan  1.]\n",
      "[nan  5.]\n",
      "[nan  4.]\n",
      "[nan  5.]\n",
      "[nan  5.]\n",
      "[nan  5.]\n",
      "[nan  5.]\n",
      "[nan  5.  4.]\n",
      "[nan  5.]\n",
      "[nan  5.]\n",
      "[nan  1.]\n",
      "[nan  3.  5.]\n",
      "[nan  4.]\n",
      "[nan  5.]\n",
      "[nan  5.  3.  4.  1.]\n",
      "[nan  4.  2.]\n",
      "[nan  5.  4.]\n",
      "[nan  5.  3.  4.]\n",
      "[nan  5.  3.]\n",
      "[nan  5.  3.  4.]\n",
      "[nan  5.]\n",
      "[nan  5.]\n",
      "[nan  4.]\n",
      "[nan  5.]\n",
      "[nan  5.]\n",
      "[nan  5.]\n",
      "[nan  5.  3.]\n",
      "[nan  2.]\n",
      "[nan  5.  4.]\n",
      "[nan  5.  3.]\n",
      "[nan  5.  4.]\n",
      "[nan  5.]\n",
      "[nan  5.]\n",
      "[nan  5.]\n",
      "[nan  5.]\n",
      "[nan  5.  3.]\n",
      "[nan  5.]\n",
      "[nan  5.]\n",
      "[nan  4.  5.  2.]\n",
      "[nan  5.]\n",
      "[nan  5.  4.  3.]\n",
      "[nan  3.  5.  4.]\n",
      "[nan  5.]\n",
      "[nan  5.]\n",
      "[nan  5.]\n",
      "[nan  5.]\n",
      "[nan  5.  3.]\n",
      "[nan  5.]\n",
      "[nan  5.  4.  3.]\n",
      "[nan  3.  5.  4.]\n",
      "[nan  5.  4.]\n",
      "[nan  4.]\n",
      "[nan  5.  4.]\n",
      "[nan  4.  5.  1.]\n",
      "[nan  5.]\n",
      "[nan  5.]\n",
      "[nan  5.  4.]\n",
      "[nan  5.  3.]\n",
      "[nan  5.  1.]\n",
      "[nan  3.]\n",
      "[nan  1.  5.  4.]\n",
      "[nan  5.  2.  1.  4.  3.]\n",
      "[nan  5.  4.]\n"
     ]
    }
   ],
   "source": [
    "for col in movie_data:\n",
    "    print(movie_data[col].unique())"
   ]
  },
  {
   "cell_type": "markdown",
   "metadata": {},
   "source": [
    "None of the entries are anything but NaN or a whole number and every movie has been rated at least once. Now I will see if any users have not rated any movies."
   ]
  },
  {
   "cell_type": "code",
   "execution_count": 6,
   "metadata": {},
   "outputs": [
    {
     "name": "stdout",
     "output_type": "stream",
     "text": [
      "Empty DataFrame\n",
      "Columns: [user_id, Movie1, Movie2, Movie3, Movie4, Movie5, Movie6, Movie7, Movie8, Movie9, Movie10, Movie11, Movie12, Movie13, Movie14, Movie15, Movie16, Movie17, Movie18, Movie19, Movie20, Movie21, Movie22, Movie23, Movie24, Movie25, Movie26, Movie27, Movie28, Movie29, Movie30, Movie31, Movie32, Movie33, Movie34, Movie35, Movie36, Movie37, Movie38, Movie39, Movie40, Movie41, Movie42, Movie43, Movie44, Movie45, Movie46, Movie47, Movie48, Movie49, Movie50, Movie51, Movie52, Movie53, Movie54, Movie55, Movie56, Movie57, Movie58, Movie59, Movie60, Movie61, Movie62, Movie63, Movie64, Movie65, Movie66, Movie67, Movie68, Movie69, Movie70, Movie71, Movie72, Movie73, Movie74, Movie75, Movie76, Movie77, Movie78, Movie79, Movie80, Movie81, Movie82, Movie83, Movie84, Movie85, Movie86, Movie87, Movie88, Movie89, Movie90, Movie91, Movie92, Movie93, Movie94, Movie95, Movie96, Movie97, Movie98, Movie99, ...]\n",
      "Index: []\n",
      "\n",
      "[0 rows x 207 columns]\n"
     ]
    }
   ],
   "source": [
    "print(movie_data[movie_data.sum(axis=1) == 0])"
   ]
  },
  {
   "cell_type": "markdown",
   "metadata": {},
   "source": [
    "And it appears that all users have rated at least one movie so no rows or columns need to be dropped at this time"
   ]
  },
  {
   "cell_type": "markdown",
   "metadata": {},
   "source": [
    "### Exploratory Data Analysis"
   ]
  },
  {
   "cell_type": "markdown",
   "metadata": {},
   "source": [
    "Now to see how sparse the data is"
   ]
  },
  {
   "cell_type": "code",
   "execution_count": 7,
   "metadata": {},
   "outputs": [
    {
     "data": {
      "text/plain": [
       "<AxesSubplot:>"
      ]
     },
     "execution_count": 7,
     "metadata": {},
     "output_type": "execute_result"
    },
    {
     "data": {
      "image/png": "[encoded data removed]",
      "text/plain": [
       "<Figure size 432x288 with 1 Axes>"
      ]
     },
     "metadata": {
      "needs_background": "light"
     },
     "output_type": "display_data"
    }
   ],
   "source": [
    "sns.heatmap(movie_data.isnull(), cbar=False)"
   ]
  },
  {
   "cell_type": "markdown",
   "metadata": {},
   "source": [
    "The data is pretty sparse, so when I create my model, I will need to include a fallback for if there are not enough ratings for a movie. I will begin by exploring the mean, median, and mode of the movies as possible fallback ratings."
   ]
  },
  {
   "cell_type": "code",
   "execution_count": 11,
   "metadata": {},
   "outputs": [
    {
     "data": {
      "text/plain": [
       "Text(0.5, 0, 'Average rating of movie')"
      ]
     },
     "execution_count": 11,
     "metadata": {},
     "output_type": "execute_result"
    },
    {
     "data": {
      "image/png": "[encoded data removed]",
      "text/plain": [
       "<Figure size 432x288 with 1 Axes>"
      ]
     },
     "metadata": {
      "needs_background": "light"
     },
     "output_type": "display_data"
    }
   ],
   "source": [
    "plt.hist(movie_data.mean(axis=0, skipna=True))\n",
    "plt.title('Average movie ratings')\n",
    "plt.ylabel('Number of movies')\n",
    "plt.xlabel('Average rating of movie')"
   ]
  },
  {
   "cell_type": "code",
   "execution_count": 12,
   "metadata": {},
   "outputs": [
    {
     "data": {
      "text/plain": [
       "Text(0.5, 0, 'Median rating of movie')"
      ]
     },
     "execution_count": 12,
     "metadata": {},
     "output_type": "execute_result"
    },
    {
     "data": {
      "image/png": "[encoded data removed]",
      "text/plain": [
       "<Figure size 432x288 with 1 Axes>"
      ]
     },
     "metadata": {
      "needs_background": "light"
     },
     "output_type": "display_data"
    }
   ],
   "source": [
    "plt.hist(movie_data.median(axis=0, skipna=True))\n",
    "plt.title('Median movie ratings')\n",
    "plt.ylabel('Number of movies')\n",
    "plt.xlabel('Median rating of movie')"
   ]
  },
  {
   "cell_type": "code",
   "execution_count": 31,
   "metadata": {},
   "outputs": [
    {
     "data": {
      "text/plain": [
       "Text(0.5, 0, 'Mode rating of movie')"
      ]
     },
     "execution_count": 31,
     "metadata": {},
     "output_type": "execute_result"
    },
    {
     "data": {
      "image/png": "[encoded data removed]",
      "text/plain": [
       "<Figure size 432x288 with 1 Axes>"
      ]
     },
     "metadata": {
      "needs_background": "light"
     },
     "output_type": "display_data"
    }
   ],
   "source": [
    "#calling .mean() on the mode as mode returns multiple values for this dataframe\n",
    "plt.hist(movie_data.mode(axis=0, dropna=True, numeric_only=True).mean())\n",
    "plt.title('Mode of movie ratings')\n",
    "plt.ylabel('Number of movies')\n",
    "plt.xlabel('Mode rating of movie')"
   ]
  },
  {
   "cell_type": "markdown",
   "metadata": {},
   "source": [
    "So it appears that almost all of the ratings users have left are five stars. Mode is not likely to be a useful statistic for a fallback as it returns multiple values so I would need to call either mean() or median() on the results anyway. "
   ]
  },
  {
   "cell_type": "markdown",
   "metadata": {},
   "source": [
    "It might be interesting to also see the mean and median ratings left by each user plotted on a histogram."
   ]
  },
  {
   "cell_type": "code",
   "execution_count": 33,
   "metadata": {},
   "outputs": [
    {
     "data": {
      "text/plain": [
       "Text(0.5, 0, 'Average of ratings left by user')"
      ]
     },
     "execution_count": 33,
     "metadata": {},
     "output_type": "execute_result"
    },
    {
     "data": {
      "image/png": "[encoded data removed]",
      "text/plain": [
       "<Figure size 432x288 with 1 Axes>"
      ]
     },
     "metadata": {
      "needs_background": "light"
     },
     "output_type": "display_data"
    }
   ],
   "source": [
    "plt.hist(movie_data.mean(axis=1, skipna=True))\n",
    "plt.title('Average of ratings left by user')\n",
    "plt.ylabel('Number of customers')\n",
    "plt.xlabel('Average of ratings left by user')"
   ]
  },
  {
   "cell_type": "code",
   "execution_count": 36,
   "metadata": {},
   "outputs": [
    {
     "data": {
      "text/plain": [
       "Text(0.5, 0, 'Median of ratings left by user')"
      ]
     },
     "execution_count": 36,
     "metadata": {},
     "output_type": "execute_result"
    },
    {
     "data": {
      "image/png": "[encoded data removed]",
      "text/plain": [
       "<Figure size 432x288 with 1 Axes>"
      ]
     },
     "metadata": {
      "needs_background": "light"
     },
     "output_type": "display_data"
    }
   ],
   "source": [
    "plt.hist(movie_data.median(axis=1, skipna=True))\n",
    "plt.title('Median of ratings left by user')\n",
    "plt.ylabel('Number of movies')\n",
    "plt.xlabel('Median of ratings left by user')"
   ]
  },
  {
   "cell_type": "markdown",
   "metadata": {},
   "source": [
    "It appears that the median and average ratings left by customers are nearly the same. If I choose to use either one of these as a fallback, it does not likely matter which I choose."
   ]
  },
  {
   "cell_type": "markdown",
   "metadata": {},
   "source": [
    "As my dataframe does not need cleaning, I will do my preprocessing and model in this notebook instead of a separate one."
   ]
  }
 ],
 "metadata": {
  "kernelspec": {
   "display_name": "Python 3",
   "language": "python",
   "name": "python3"
  },
  "language_info": {
   "codemirror_mode": {
    "name": "ipython",
    "version": 3
   },
   "file_extension": ".py",
   "mimetype": "text/x-python",
   "name": "python",
   "nbconvert_exporter": "python",
   "pygments_lexer": "ipython3",
   "version": "3.7.9"
  }
 },
 "nbformat": 4,
 "nbformat_minor": 4
}
